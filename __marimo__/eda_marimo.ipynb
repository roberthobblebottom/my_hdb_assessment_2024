{
 "cells": [
  {
   "cell_type": "code",
   "execution_count": null,
   "id": "Hbol",
   "metadata": {},
   "outputs": [],
   "source": [
    "import marimo as mo\n",
    "import polars as pl\n",
    "import pandas as pd\n",
    "import plotly.graph_objects as go\n",
    "import numpy\n",
    "import plotly.express as px\n",
    "from sklearn.ensemble import RandomForestRegressor\n",
    "from plotly.subplots import make_subplots\n",
    "import statsmodels.api as sm\n",
    "from sklearn.preprocessing import OneHotEncoder"
   ]
  },
  {
   "cell_type": "markdown",
   "id": "MJUe",
   "metadata": {},
   "source": [
    "# What are the factors affecting rent prices for HDB flats in Singapore?"
   ]
  },
  {
   "cell_type": "code",
   "execution_count": null,
   "id": "vblA",
   "metadata": {},
   "outputs": [],
   "source": [
    "df = pl.read_csv(\"RentingOutofFlats2024CSV.csv\", infer_schema_length=10000)"
   ]
  },
  {
   "cell_type": "code",
   "execution_count": null,
   "id": "bkHC",
   "metadata": {},
   "outputs": [],
   "source": [
    "df.describe()"
   ]
  },
  {
   "cell_type": "markdown",
   "id": "lEQa",
   "metadata": {},
   "source": [
    "no Null imputation needed, column names are consistent"
   ]
  },
  {
   "cell_type": "code",
   "execution_count": null,
   "id": "PKri",
   "metadata": {},
   "outputs": [],
   "source": [
    "df.is_duplicated().any()"
   ]
  },
  {
   "cell_type": "code",
   "execution_count": null,
   "id": "Xref",
   "metadata": {},
   "outputs": [],
   "source": [
    "df[\"town\"].unique().to_list()"
   ]
  },
  {
   "cell_type": "code",
   "execution_count": null,
   "id": "SFPL",
   "metadata": {},
   "outputs": [],
   "source": [
    "df[\"flat_type\"].unique().to_list()"
   ]
  },
  {
   "cell_type": "markdown",
   "id": "BYtC",
   "metadata": {},
   "source": [
    "probably consistent values in the features. checking from the charts below also paints a similar stories"
   ]
  },
  {
   "cell_type": "code",
   "execution_count": null,
   "id": "RGSE",
   "metadata": {},
   "outputs": [],
   "source": [
    "df2 = df.with_columns(\n",
    "    pl.col(\"rent_approval_date\").str.to_datetime(\"%Y-%m\")\n",
    ").unique()  # removes duplicates"
   ]
  },
  {
   "cell_type": "markdown",
   "id": "Kclp",
   "metadata": {},
   "source": [
    "# box plots"
   ]
  },
  {
   "cell_type": "code",
   "execution_count": null,
   "id": "emfo",
   "metadata": {
    "marimo": {
     "config": {
      "hide_code": true
     }
    }
   },
   "outputs": [],
   "source": [
    "px.box(\n",
    "    df2,\n",
    "    x=\"town\",\n",
    "    y=\"monthly_rent\",\n",
    ")"
   ]
  },
  {
   "cell_type": "markdown",
   "id": "Hstk",
   "metadata": {},
   "source": [
    "relatively similar distribution between many of the towns. hard to see really patterns with this chart"
   ]
  },
  {
   "cell_type": "code",
   "execution_count": null,
   "id": "nWHF",
   "metadata": {
    "marimo": {
     "config": {
      "hide_code": true
     }
    }
   },
   "outputs": [],
   "source": [
    "px.box(\n",
    "    df2,\n",
    "    x=\"flat_type\",\n",
    "    y=\"monthly_rent\",\n",
    "    category_orders={\n",
    "        \"flat_type\": [\n",
    "            \"1-ROOM\",\n",
    "            \"2-ROOM\",\n",
    "            \"3-ROOM\",\n",
    "            \"4-ROOM\",\n",
    "            \"5-ROOM\",\n",
    "            \"EXECUTIVE\",\n",
    "        ]\n",
    "    },\n",
    ")"
   ]
  },
  {
   "cell_type": "markdown",
   "id": "iLit",
   "metadata": {},
   "source": [
    "2 room and 3 rooms flats has similar distribution. 4,5 rooms and executive have similar distribution. median increases by the number of rooms."
   ]
  },
  {
   "cell_type": "code",
   "execution_count": null,
   "id": "ZHCJ",
   "metadata": {},
   "outputs": [],
   "source": [
    "# _df = df2.group_by(\"town\").median().sort(\"monthly_rent\")\n",
    "# _df2 = (\n",
    "#     df2.group_by(\"town\").len().sort(\"len\").rename({\"len\": \"number_of_units\"})\n",
    "# )\n",
    "\n",
    "# town_sorted2 = _df[\"town\"]\n",
    "# px.bar(\n",
    "#     _df,\n",
    "#     \"town\",\n",
    "#     \"monthly_rent\",\n",
    "# )"
   ]
  },
  {
   "cell_type": "markdown",
   "id": "ROlb",
   "metadata": {},
   "source": [
    "# bar and line charts"
   ]
  },
  {
   "cell_type": "code",
   "execution_count": null,
   "id": "qnkX",
   "metadata": {
    "marimo": {
     "config": {
      "hide_code": true
     }
    }
   },
   "outputs": [],
   "source": [
    "_df2 = (\n",
    "    df2.group_by(\"town\")\n",
    "    .len()\n",
    "    .rename({\"len\": \"number_of_units\"})\n",
    "    .sort(\"number_of_units\")\n",
    "    .join(\n",
    "        df2.group_by(\"town\").median().select(\"town\", \"monthly_rent\"), on=\"town\"\n",
    "    )\n",
    ").sort(\"monthly_rent\")\n",
    "_df2 = _df2\n",
    "\n",
    "\n",
    "fig = make_subplots(specs=[[{\"secondary_y\": True}]])\n",
    "fig.add_trace(\n",
    "    go.Bar(\n",
    "        x=_df2[\"town\"],\n",
    "        y=_df2[\"monthly_rent\"],\n",
    "        name=\"monthly_rent\",\n",
    "    ),\n",
    "    secondary_y=False,\n",
    ")\n",
    "\n",
    "fig.add_trace(\n",
    "    go.Scatter(\n",
    "        x=_df2[\"town\"],\n",
    "        y=_df2[\"number_of_units\"],\n",
    "        name=\"number_of_units\",\n",
    "        mode=\"lines\",\n",
    "        line=dict(\n",
    "            color=\"RGBA(255, 165, 0, 1)\",\n",
    "        ),\n",
    "    ),\n",
    "    secondary_y=True,\n",
    ")\n",
    "fig"
   ]
  },
  {
   "cell_type": "code",
   "execution_count": null,
   "id": "TqIu",
   "metadata": {
    "marimo": {
     "config": {
      "disabled": true,
      "hide_code": true
     }
    }
   },
   "outputs": [],
   "source": [
    "_df = df2.group_by(\"town\").len().sort(\"len\").rename({\"len\": \"number_of_units\"})\n",
    "px.bar(\n",
    "    _df,\n",
    "    \"town\",\n",
    "    \"number_of_units\",\n",
    "    category_orders={\"town\": town_sorted2},\n",
    ")"
   ]
  },
  {
   "cell_type": "markdown",
   "id": "Vxnm",
   "metadata": {},
   "source": [
    "town seems to have effect on median monthly_rent prices. Central,bukit timah,bukit merah,bishan,queens, are the most expensives. There is probably alot of demand for these towns.\n",
    "\n",
    "here are not much correlations betweeen number_of_units to monthly_rent across town."
   ]
  },
  {
   "cell_type": "code",
   "execution_count": null,
   "id": "DnEU",
   "metadata": {},
   "outputs": [],
   "source": [
    "# _df = df2.group_by(\"flat_type\").median().sort(\"monthly_rent\")\n",
    "# px.bar(\n",
    "#     _df,\n",
    "#     \"flat_type\",\n",
    "#     \"monthly_rent\",\n",
    "# )"
   ]
  },
  {
   "cell_type": "markdown",
   "id": "ulZA",
   "metadata": {},
   "source": []
  },
  {
   "cell_type": "code",
   "execution_count": null,
   "id": "ecfG",
   "metadata": {
    "marimo": {
     "config": {
      "hide_code": true
     }
    }
   },
   "outputs": [],
   "source": [
    "_df2 = (\n",
    "    df2.group_by(\"flat_type\")\n",
    "    .len()\n",
    "    .rename({\"len\": \"number_of_units\"})\n",
    "    .sort(\"number_of_units\")\n",
    "    .join(\n",
    "        df2.group_by(\"flat_type\").median().select(\"flat_type\", \"monthly_rent\"),\n",
    "        on=\"flat_type\",\n",
    "    )\n",
    ").sort(\"flat_type\")\n",
    "# print(_df2)\n",
    "\n",
    "\n",
    "_fig = make_subplots(specs=[[{\"secondary_y\": True}]])\n",
    "_fig.add_trace(\n",
    "    go.Bar(\n",
    "        x=_df2[\"flat_type\"],\n",
    "        y=_df2[\"monthly_rent\"],\n",
    "        name=\"monthly_rent\",\n",
    "    ),\n",
    "    secondary_y=False,\n",
    ")\n",
    "\n",
    "_fig.add_trace(\n",
    "    go.Scatter(\n",
    "        x=_df2[\"flat_type\"],\n",
    "        y=_df2[\"number_of_units\"],\n",
    "        name=\"number_of_units\",\n",
    "        mode=\"lines\",\n",
    "    ),\n",
    "    secondary_y=True,\n",
    ")"
   ]
  },
  {
   "cell_type": "markdown",
   "id": "Pvdt",
   "metadata": {},
   "source": [
    "flat types seems to have effect on median rent prices. the more rooms, the more expensive\n",
    "\n",
    "There are some non linear correlations betweeen number_of_units to monthly_rent across flat_types.\n",
    "\n",
    "\n",
    "street_name and block are not needed as town feature would b enough information about it's correlations to monthly_rent"
   ]
  },
  {
   "cell_type": "code",
   "execution_count": null,
   "id": "ZBYS",
   "metadata": {},
   "outputs": [],
   "source": []
  },
  {
   "cell_type": "code",
   "execution_count": null,
   "id": "aLJB",
   "metadata": {
    "marimo": {
     "config": {
      "hide_code": true
     }
    }
   },
   "outputs": [],
   "source": [
    "# px.scatter(\n",
    "#     df2.group_by(\"flat_type\", \"town\").median(),\n",
    "#     \"town\",\n",
    "#     \"flat_type\",\n",
    "#     size=\"monthly_rent\",\n",
    "#     color=\"monthly_rent\",\n",
    "#     category_orders={\n",
    "#         \"flat_type\": [\n",
    "#             \"1-ROOM\",\n",
    "#             \"2-ROOM\",\n",
    "#             \"3-ROOM\",\n",
    "#             \"4-ROOM\",\n",
    "#             \"5-ROOM\",\n",
    "#             \"EXECUTIVE\",\n",
    "#         ],\n",
    "#         \"town\": town_sorted,\n",
    "#     },\n",
    "#     size_max=20,\n",
    "# ).update_layout(height=600, width=1000)"
   ]
  },
  {
   "cell_type": "markdown",
   "id": "nHfw",
   "metadata": {},
   "source": [
    "<!-- across flat_typeflat_type and towntown monthly_rentmonthly_rent does increases for the more premium flat-typeflat-type and in certain townstowns. -->"
   ]
  },
  {
   "cell_type": "code",
   "execution_count": null,
   "id": "xXTn",
   "metadata": {
    "marimo": {
     "config": {
      "hide_code": true
     }
    }
   },
   "outputs": [],
   "source": [
    "# px.scatter(\n",
    "#     df2.group_by(\"flat_type\", \"town\").len(),\n",
    "#     \"town\",\n",
    "#     \"flat_type\",\n",
    "#     size=\"len\",\n",
    "#     category_orders={\n",
    "#         \"flat_type\": [\n",
    "#             \"1-ROOM\",\n",
    "#             \"2-ROOM\",\n",
    "#             \"3-ROOM\",\n",
    "#             \"4-ROOM\",\n",
    "#             \"5-ROOM\",\n",
    "#             \"EXECUTIVE\",\n",
    "#         ],\n",
    "#         \"town\": town_sorted,\n",
    "#     },\n",
    "#     size_max=20,\n",
    "# ).update_layout(height=600, width=1000)"
   ]
  },
  {
   "cell_type": "markdown",
   "id": "AjVT",
   "metadata": {},
   "source": [
    "<!-- comparing the two bubble plots aboves that distinguishes in terms of flat_typeflat_type and towntown seems to indicate that number_of_unitsnumber_of_units available may have some correlations to monthly_rentmonthly_rent but there are exceptions such as jurong eastjurong east and sengkangsengkang. -->"
   ]
  },
  {
   "cell_type": "code",
   "execution_count": null,
   "id": "pHFh",
   "metadata": {},
   "outputs": [],
   "source": [
    "px.scatter(\n",
    "    df2.sample(df2.shape[0] / 3),\n",
    "    x=\"rent_approval_date\",\n",
    "    y=\"monthly_rent\",\n",
    "    trendline=\"lowess\",\n",
    ")"
   ]
  },
  {
   "cell_type": "markdown",
   "id": "NCOB",
   "metadata": {},
   "source": [
    "rent approval rates has a slight positive correlation to monthly rent. especially after july 2022"
   ]
  },
  {
   "cell_type": "markdown",
   "id": "aqbW",
   "metadata": {},
   "source": [
    "# Hypothesis testing"
   ]
  },
  {
   "cell_type": "code",
   "execution_count": null,
   "id": "TRpd",
   "metadata": {},
   "outputs": [],
   "source": [
    "one_hot_encoded_x = (\n",
    "    OneHotEncoder(sparse_output=False)\n",
    "    .set_output(transform=\"polars\")\n",
    "    .fit_transform(\n",
    "        df2.select(pl.col(pl.String()))\n",
    "        .select(pl.exclude(\"street_name\", \"block\"))\n",
    "        .to_pandas()\n",
    "    )\n",
    ")"
   ]
  },
  {
   "cell_type": "code",
   "execution_count": null,
   "id": "TXez",
   "metadata": {},
   "outputs": [],
   "source": [
    "df3 = df2.select(pl.exclude(pl.String())).hstack(one_hot_encoded_x)"
   ]
  },
  {
   "cell_type": "code",
   "execution_count": null,
   "id": "dNNg",
   "metadata": {},
   "outputs": [],
   "source": [
    "x = (\n",
    "    df3.select(pl.exclude(\"monthly_rent\"))\n",
    "    .with_columns(pl.col(\"rent_approval_date\").cast(pl.Int64))\n",
    "    # .with_columns(\n",
    "    #     rent_approval_date=pl.col(\"rent_approval_date\")\n",
    "    #     / pl.col(\n",
    "    #         \"rent_approval_date\"\n",
    "    #     ).median()  # trying to reduce these numbers into something smaller\n",
    "    # )\n",
    "    .to_pandas()\n",
    ")\n",
    "y = df3.select(\"monthly_rent\").to_numpy()\n",
    "# print(_x)\n",
    "\n",
    "_x = sm.add_constant(x)\n",
    "results = sm.OLS(y, _x).fit()\n",
    "\n",
    "results.summary()"
   ]
  },
  {
   "cell_type": "markdown",
   "id": "yCnT",
   "metadata": {},
   "source": [
    "all features are statistically significant (alpha =0.05)"
   ]
  },
  {
   "cell_type": "code",
   "execution_count": null,
   "id": "wlCL",
   "metadata": {},
   "outputs": [],
   "source": [
    "rfr = RandomForestRegressor(n_jobs=20)\n",
    "rfr.fit(x, y.ravel())"
   ]
  },
  {
   "cell_type": "code",
   "execution_count": null,
   "id": "kqZH",
   "metadata": {},
   "outputs": [],
   "source": [
    "pl.DataFrame(\n",
    "    [x.columns.tolist(), rfr.feature_importances_.tolist()],\n",
    "    schema=[\"feature\", \"importance\"],\n",
    ").sort(\"importance\", descending=True).head(10)"
   ]
  },
  {
   "cell_type": "markdown",
   "id": "wAgl",
   "metadata": {},
   "source": [
    "rent_approval_date has the highest importance. flat type 2,3,4 are in the top ten. places with higher rent are in bukit merah, queenstown and central. overall expected correlated features are here in the importances hierachy."
   ]
  },
  {
   "cell_type": "code",
   "execution_count": null,
   "id": "rEll",
   "metadata": {},
   "outputs": [],
   "source": [
    "_d = df3.corr().with_columns(pl.all().round(2))\n",
    "px.imshow(_d, text_auto=True).update_yaxes(\n",
    "    tickmode=\"array\",\n",
    "    ticktext=df3.columns,\n",
    "    tickvals=[x for x in range(df3.shape[1])],\n",
    ")"
   ]
  },
  {
   "cell_type": "markdown",
   "id": "dGlV",
   "metadata": {},
   "source": [
    "monthly_rent is highly corelated to rent_approval_date not sure what to do with this information.\n",
    "\n",
    "\n",
    "# overall flat_type, rend_approval_dates affects monthly_rent the most, it is back by their statistic significances and feature importances."
   ]
  }
 ],
 "metadata": {},
 "nbformat": 4,
 "nbformat_minor": 5
}
